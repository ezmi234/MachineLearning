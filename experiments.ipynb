{
 "cells": [
  {
   "cell_type": "code",
   "execution_count": 61,
   "id": "initial_id",
   "metadata": {
    "collapsed": true,
    "ExecuteTime": {
     "end_time": "2024-03-15T09:38:04.603601Z",
     "start_time": "2024-03-15T09:38:04.601616Z"
    }
   },
   "outputs": [],
   "source": [
    "import numpy as np\n",
    "from matplotlib import pyplot as plt"
   ]
  },
  {
   "cell_type": "code",
   "outputs": [],
   "source": [
    "def load_dataset(fn, sep=',', label_position_last=True):\n",
    "    D = []\n",
    "    L = []\n",
    "    with open(fn, \"r\") as f:\n",
    "        for line in f:\n",
    "            start = 0\n",
    "            end = len(line.split(sep))-1\n",
    "            if not label_position_last:\n",
    "                start = 1\n",
    "                end = len(line.split(sep))\n",
    "            l_to_int = list(map(float,line.split(sep)))\n",
    "            D.append(l_to_int[start:end])\n",
    "            L.append(l_to_int[end])\n",
    "    return np.array(D).T, np.array(L)"
   ],
   "metadata": {
    "collapsed": false,
    "ExecuteTime": {
     "end_time": "2024-03-15T09:38:04.947166Z",
     "start_time": "2024-03-15T09:38:04.944383Z"
    }
   },
   "id": "95ee78a6fa2968db",
   "execution_count": 62
  },
  {
   "cell_type": "code",
   "outputs": [],
   "source": [
    "def plot_hist(D, L, labels):\n",
    "    split_data = [D[:, L == label] for label in labels]\n",
    "\n",
    "    for dIdx in range(len(D)):\n",
    "        plt.figure()\n",
    "        plt.xlabel(\"Feature: {}\".format(dIdx))\n",
    "        for i, d in enumerate(split_data):\n",
    "            plt.hist(d[dIdx, :], bins=10, density=True, alpha=0.4, label=labels[i])\n",
    "\n",
    "        plt.legend()\n",
    "        plt.tight_layout()  # Use with non-default font size to keep axis label inside the figure\n",
    "        # plt.savefig('hist_%d.pdf' % dIdx)\n",
    "    plt.show()"
   ],
   "metadata": {
    "collapsed": false,
    "ExecuteTime": {
     "end_time": "2024-03-15T09:38:05.221462Z",
     "start_time": "2024-03-15T09:38:05.218098Z"
    }
   },
   "id": "652d06a4c72a2fb6",
   "execution_count": 63
  },
  {
   "cell_type": "code",
   "outputs": [
    {
     "name": "stdout",
     "output_type": "stream",
     "text": [
      "(6, 6000)\n",
      "(6000,)\n"
     ]
    }
   ],
   "source": [
    "filename = \"lab2/project/trainData.txt\"\n",
    "D, L = load_dataset(filename)\n",
    "print(D.shape)\n",
    "print(L.shape)"
   ],
   "metadata": {
    "collapsed": false,
    "ExecuteTime": {
     "end_time": "2024-03-15T09:38:05.815485Z",
     "start_time": "2024-03-15T09:38:05.800364Z"
    }
   },
   "id": "a25cf8ab1de2c401",
   "execution_count": 64
  },
  {
   "cell_type": "code",
   "outputs": [],
   "source": [
    "labels = (0,1)\n",
    "# plot_hist(D, L, labels)"
   ],
   "metadata": {
    "collapsed": false,
    "ExecuteTime": {
     "end_time": "2024-03-15T09:38:06.859517Z",
     "start_time": "2024-03-15T09:38:06.857725Z"
    }
   },
   "id": "45da32344449ce01",
   "execution_count": 65
  },
  {
   "cell_type": "code",
   "outputs": [
    {
     "name": "stdout",
     "output_type": "stream",
     "text": [
      "Mean:\n",
      "[[ 0.00170711]\n",
      " [ 0.00503903]\n",
      " [-0.00560753]\n",
      " [ 0.00109537]\n",
      " [-0.00700025]\n",
      " [ 0.00910515]]\n"
     ]
    }
   ],
   "source": [
    "mu = D.mean(1).reshape((D.shape[0], 1))\n",
    "print('Mean:')\n",
    "print(mu)\n",
    "print()"
   ],
   "metadata": {
    "collapsed": false,
    "ExecuteTime": {
     "end_time": "2024-03-15T09:38:43.962256Z",
     "start_time": "2024-03-15T09:38:43.958915Z"
    }
   },
   "id": "d4036ac2b7328e57",
   "execution_count": 66
  },
  {
   "cell_type": "code",
   "outputs": [
    {
     "name": "stdout",
     "output_type": "stream",
     "text": [
      "Covariance:\n",
      "[[ 1.00134304e+00  5.16755817e-03  1.76746375e-03  1.45268757e-02\n",
      "   1.00066790e-02 -1.29591239e-02]\n",
      " [ 5.16755817e-03  9.98352699e-01 -1.58354137e-02 -4.40650280e-04\n",
      "  -4.01307317e-03 -8.17687100e-04]\n",
      " [ 1.76746375e-03 -1.58354137e-02  1.00248180e+00 -4.37060381e-01\n",
      "  -2.68600594e-02  6.34388503e-03]\n",
      " [ 1.45268757e-02 -4.40650280e-04 -4.37060381e-01  9.90293894e-01\n",
      "   2.53357434e-02  8.26930215e-03]\n",
      " [ 1.00066790e-02 -4.01307317e-03 -2.68600594e-02  2.53357434e-02\n",
      "   1.00119747e+00  8.75793087e-04]\n",
      " [-1.29591239e-02 -8.17687100e-04  6.34388503e-03  8.26930215e-03\n",
      "   8.75793087e-04  9.97223742e-01]]\n",
      "\n",
      "Variance: [1.00134304 0.9983527  1.0024818  0.99029389 1.00119747 0.99722374]\n",
      "Std. dev.: [1.00067129 0.99917601 1.00124013 0.99513511 1.00059856 0.99861091]\n",
      "Std. dev.2: [1.00067129 0.99917601 1.00124013 0.99513511 1.00059856 0.99861091]\n"
     ]
    }
   ],
   "source": [
    "DC = D - mu\n",
    "\n",
    "C = ((D - mu) @ (D - mu).T) / float(D.shape[1])\n",
    "print('Covariance:')\n",
    "print(C)\n",
    "print()\n",
    "# cov = np.cov(D, rowvar=True)\n",
    "var = D.var(1)\n",
    "std = D.std(1)\n",
    "print('Variance:', var)\n",
    "print('Std. dev.:', std)\n",
    "print()"
   ],
   "metadata": {
    "collapsed": false,
    "ExecuteTime": {
     "end_time": "2024-03-15T09:55:42.913791Z",
     "start_time": "2024-03-15T09:55:42.908521Z"
    }
   },
   "id": "ab944dd1e7200880",
   "execution_count": 77
  },
  {
   "cell_type": "code",
   "outputs": [],
   "source": [],
   "metadata": {
    "collapsed": false
   },
   "id": "655e7119bc33e22e"
  }
 ],
 "metadata": {
  "kernelspec": {
   "display_name": "Python 3",
   "language": "python",
   "name": "python3"
  },
  "language_info": {
   "codemirror_mode": {
    "name": "ipython",
    "version": 2
   },
   "file_extension": ".py",
   "mimetype": "text/x-python",
   "name": "python",
   "nbconvert_exporter": "python",
   "pygments_lexer": "ipython2",
   "version": "2.7.6"
  }
 },
 "nbformat": 4,
 "nbformat_minor": 5
}
